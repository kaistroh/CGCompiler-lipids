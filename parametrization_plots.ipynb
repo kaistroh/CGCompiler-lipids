{
 "cells": [
  {
   "cell_type": "code",
   "execution_count": null,
   "id": "1ee71373",
   "metadata": {
    "ExecuteTime": {
     "end_time": "2023-11-22T16:22:25.019089Z",
     "start_time": "2023-11-22T16:22:25.009190Z"
    }
   },
   "outputs": [],
   "source": [
    "# import sys\n",
    "# sys.path.insert(1, '/path/to/CGCompiler/')\n",
    "\n",
    "import os\n",
    "import json\n",
    "import numpy as np\n",
    "import pandas as pd\n",
    "import matplotlib.pyplot as plt\n",
    "from matplotlib.patches import Rectangle\n",
    "import matplotlib.patches as mpatches\n",
    "\n",
    "import seaborn as sns\n",
    "\n",
    "from user.usersettings import feasible_bead_types\n",
    "\n",
    "from user.analysis.utils import read_distribution_file\n",
    "\n",
    "from user.usersettings import training_systems, bonds_to_optimize, angles_to_optimize\n",
    "from user.usersettings import target_dict, X_cont_upperbounds\n",
    "\n",
    "SMALL_SIZE = 16\n",
    "MEDIUM_SIZE = 20 \n",
    "BIGGER_SIZE = 24\n",
    "\n",
    "plt.rc('axes', labelsize=MEDIUM_SIZE)\n",
    "plt.rc('axes', titlesize=SMALL_SIZE)\n",
    "plt.rc('xtick', labelsize=SMALL_SIZE)\n",
    "plt.rc('ytick', labelsize=SMALL_SIZE)\n",
    "plt.rcParams['legend.fontsize'] = SMALL_SIZE"
   ]
  },
  {
   "cell_type": "code",
   "execution_count": null,
   "id": "e1f2bf5b",
   "metadata": {
    "ExecuteTime": {
     "end_time": "2023-11-22T16:22:36.197731Z",
     "start_time": "2023-11-22T16:22:36.192612Z"
    }
   },
   "outputs": [],
   "source": [
    "plt.rcParams['figure.figsize'] = 16, 12\n",
    "plt.rcParams['legend.fontsize'] = SMALL_SIZE"
   ]
  },
  {
   "cell_type": "code",
   "execution_count": null,
   "id": "83fb04c1",
   "metadata": {
    "ExecuteTime": {
     "end_time": "2023-11-22T16:22:36.407351Z",
     "start_time": "2023-11-22T16:22:36.371361Z"
    }
   },
   "outputs": [],
   "source": [
    "%load_ext autoreload\n",
    "\n",
    "%autoreload 2"
   ]
  },
  {
   "cell_type": "code",
   "execution_count": null,
   "id": "bc0eeb4a",
   "metadata": {
    "ExecuteTime": {
     "end_time": "2023-11-22T16:22:36.811480Z",
     "start_time": "2023-11-22T16:22:36.774517Z"
    }
   },
   "outputs": [],
   "source": [
    "def read_df_list(nsim):\n",
    "    df_list = []\n",
    "    for i in range(nsim):\n",
    "        df_list.append(pd.read_csv(\"output/population-%d.csv\" %(i), index_col=[0,1,2],\n",
    "                                   header=[0,1], skipinitialspace=True))\n",
    "        \n",
    "    return df_list"
   ]
  },
  {
   "cell_type": "code",
   "execution_count": null,
   "id": "0e96801a",
   "metadata": {
    "ExecuteTime": {
     "end_time": "2023-11-22T16:22:39.162346Z",
     "start_time": "2023-11-22T16:22:39.063308Z"
    }
   },
   "outputs": [],
   "source": [
    "niter = 10\n",
    "df = pd.concat(read_df_list(niter))\n",
    "df = df.reorder_levels([2,0,1])\n",
    "df"
   ]
  },
  {
   "cell_type": "code",
   "execution_count": null,
   "id": "1adea112",
   "metadata": {
    "ExecuteTime": {
     "end_time": "2023-11-22T16:22:47.763072Z",
     "start_time": "2023-11-22T16:22:47.724819Z"
    }
   },
   "outputs": [],
   "source": [
    "df.sort_index(level=[0,1], inplace=True)"
   ]
  },
  {
   "cell_type": "code",
   "execution_count": null,
   "id": "10f69dd8",
   "metadata": {
    "ExecuteTime": {
     "end_time": "2023-11-22T16:22:47.960780Z",
     "start_time": "2023-11-22T16:22:47.902802Z"
    }
   },
   "outputs": [],
   "source": [
    "df.loc[(slice(0), slice(None), slice(None))]"
   ]
  },
  {
   "cell_type": "code",
   "execution_count": null,
   "id": "7431ec2b",
   "metadata": {
    "ExecuteTime": {
     "end_time": "2023-11-22T16:22:49.987412Z",
     "start_time": "2023-11-22T16:22:49.952107Z"
    }
   },
   "outputs": [],
   "source": [
    "fitness_ndx1 = \"Unnamed: 37_level_1\"\n",
    "fitness_ndx_tup = (\"fitness\", \"Unnamed: 37_level_1\")\n",
    "\n",
    "df_sorted = df.sort_values((\"fitness\", fitness_ndx1))"
   ]
  },
  {
   "cell_type": "code",
   "execution_count": null,
   "id": "e92228f5",
   "metadata": {
    "ExecuteTime": {
     "end_time": "2023-11-22T16:22:50.900751Z",
     "start_time": "2023-11-22T16:22:50.874420Z"
    }
   },
   "outputs": [],
   "source": [
    "iter_grps = df.groupby('iteration')"
   ]
  },
  {
   "cell_type": "code",
   "execution_count": null,
   "id": "cd1ee8fd",
   "metadata": {
    "ExecuteTime": {
     "end_time": "2023-11-22T16:23:07.138230Z",
     "start_time": "2023-11-22T16:23:07.105273Z"
    }
   },
   "outputs": [],
   "source": [
    "nbest = 4\n",
    "\n",
    "tuples = []\n",
    "for iter_ndx in range(niter):\n",
    "    #print(iter_ndx)\n",
    "    for rank in range(nbest):\n",
    "        #print((iter_ndx, rank))\n",
    "        tuples.append((iter_ndx, rank))\n",
    "index_temp = pd.MultiIndex.from_tuples(tuples, names=['iteration', 'rank'])"
   ]
  },
  {
   "cell_type": "code",
   "execution_count": null,
   "id": "94450905",
   "metadata": {
    "ExecuteTime": {
     "end_time": "2023-11-22T16:23:24.153418Z",
     "start_time": "2023-11-22T16:23:23.904997Z"
    }
   },
   "outputs": [],
   "source": [
    "\n",
    "fig, ax = plt.subplots(1, figsize=(9,6))\n",
    "\n",
    "\n",
    "df_temp = pd.DataFrame(\n",
    "    np.zeros(nbest*niter),\n",
    "    dtype='float',\n",
    "    index=index_temp,\n",
    "    columns=['fitness']\n",
    ")\n",
    "\n",
    "\n",
    "for iter_ndx in range(niter):  \n",
    "    df_i_sorted = df.loc[(slice(iter_ndx), slice(None), slice(None))].sort_values((\"fitness\", fitness_ndx1))[:nbest]\n",
    "    \n",
    "    df_temp.loc[(iter_ndx, slice(None)), slice(None)] = df_i_sorted[\"fitness\", fitness_ndx1].values\n",
    "    xvals = np.zeros(nbest) + iter_ndx\n",
    "    ax.plot(xvals, df_i_sorted[\"fitness\", fitness_ndx1], 'o', color='C0')\n",
    "    \n",
    "ax.set_xlabel('iteration')\n",
    "ax.set_ylabel('cost')\n",
    "\n"
   ]
  },
  {
   "cell_type": "code",
   "execution_count": null,
   "id": "6a33c0bc",
   "metadata": {
    "ExecuteTime": {
     "end_time": "2023-11-22T16:23:41.889133Z",
     "start_time": "2023-11-22T16:23:41.559799Z"
    }
   },
   "outputs": [],
   "source": [
    "iterrange = np.arange(niter)\n",
    "means = np.zeros(niter)\n",
    "stds = np.zeros(niter)\n",
    "mins = np.zeros(niter)\n",
    "maxs = np.zeros(niter)\n",
    "#gbest_iters = \n",
    "\n",
    "for i in range(niter):\n",
    "    means[i] = df.xs(i, level='iteration').loc[(slice(None), slice(None), slice(None)),\"fitness\"].mean()\n",
    "    stds[i] = df.xs(i, level='iteration').loc[(slice(None), slice(None), slice(None)),\"fitness\"].std(ddof=1)\n",
    "    mins[i] = df.xs(i, level='iteration').loc[(slice(None), slice(None), slice(None)),\"fitness\"].min()\n",
    "    maxs[i] = df.xs(i, level='iteration').loc[(slice(None), slice(None), slice(None)),\"fitness\"].max()\n",
    "\n",
    "plt.figure(figsize=(9,6))\n",
    "    \n",
    "plt.plot(iterrange, means, 'o-', color='C0', label='mean')\n",
    "plt.fill_between(iterrange, mins, maxs, alpha=0.2, color='grey', label='range')\n",
    "plt.fill_between(iterrange, means - stds, means + stds, alpha=0.2, color='C0', label='mean + std')\n",
    "\n",
    "\n",
    "\n",
    "for iter_ndx in range(niter):\n",
    "    #print(iter_ndx, grp)\n",
    "    \n",
    "    df_i_sorted = df.loc[(slice(iter_ndx), slice(None), slice(None))].sort_values(fitness_ndx_tup)[:nbest]\n",
    "    \n",
    "    df_temp.loc[(iter_ndx, slice(None)), slice(None)] = df_i_sorted[\"fitness\", fitness_ndx1].values\n",
    "    #print(grp_sorted)\n",
    "    xvals = np.zeros(nbest) + iter_ndx\n",
    "    #plt.plot(xvals, df_i_sorted[\"fitness\", \"Unnamed: 37_level_1\"], 'o', color='C1', alpha=1)\n",
    "    #ax[1].plot(xvals, df_i_sorted[bond, 'fc'], 'o', color='C0')\n",
    "\n",
    "    \n",
    "rank_grps = df_temp.groupby('rank')\n",
    "for rank, grp in rank_grps:\n",
    "    alpha = 1 - rank * 1 / nbest\n",
    "    #print(alpha)\n",
    "    if rank == 0:\n",
    "        plt.plot(iterrange, grp['fitness'], 'o', color='C1',\n",
    "                 alpha=alpha,\n",
    "                 label='g%dbest(i)' %nbest\n",
    "                )\n",
    "    else:\n",
    "        plt.plot(iterrange, grp['fitness'], 'o', color='C1',\n",
    "         alpha=alpha,\n",
    "         #label='%d best solutions' %nbest\n",
    "        )\n",
    "\n",
    "plt.xlabel('iteration')\n",
    "plt.ylabel('cost / a.u.')\n",
    "plt.xticks(iterrange[::2])\n",
    "#plt.grid()\n",
    "plt.legend()\n",
    "plt.ylim(9,101)\n",
    "\n",
    "plt.tight_layout()\n",
    "plt.show()"
   ]
  },
  {
   "cell_type": "code",
   "execution_count": null,
   "id": "2dc8c269",
   "metadata": {
    "ExecuteTime": {
     "end_time": "2023-11-22T16:24:18.719089Z",
     "start_time": "2023-11-22T16:24:18.674903Z"
    }
   },
   "outputs": [],
   "source": [
    "df_sns = df.reset_index()\n",
    "df_sns2 = pd.DataFrame(\n",
    "    data=np.column_stack([df_sns['iteration'].values, df_sns['fitness', fitness_ndx1]]),\n",
    "    index=df_sns.index,\n",
    "    columns=['iteration', 'fitness']\n",
    ")\n",
    "df_sns2"
   ]
  },
  {
   "cell_type": "code",
   "execution_count": null,
   "id": "4c26a34c",
   "metadata": {
    "ExecuteTime": {
     "end_time": "2023-11-22T16:24:26.448054Z",
     "start_time": "2023-11-22T16:24:26.223172Z"
    }
   },
   "outputs": [],
   "source": [
    "fig, ax = plt.subplots(figsize=(9,6))\n",
    "\n",
    "sns.boxplot(x='iteration', y='fitness', data=df_sns2, ax=ax)\n",
    "\n",
    "ax.plot(iterrange, rank_grps.get_group(0), 'o-', color='C1', label='gbest(t)')\n",
    "\n",
    "ax.set_xticks(ticks=np.arange(0,niter, 2), labels=np.arange(0, niter, 2))\n",
    "\n",
    "ax.set_ylabel('cost')\n",
    "\n",
    "ax.set_xlim(-0.5, 40.5)\n",
    "ax.set_ylim(10, 90)\n",
    "\n",
    "plt.legend()\n",
    "plt.tight_layout()\n",
    "\n",
    "plt.show()"
   ]
  },
  {
   "cell_type": "code",
   "execution_count": null,
   "id": "6c6df32c",
   "metadata": {
    "ExecuteTime": {
     "end_time": "2023-11-22T16:24:39.046573Z",
     "start_time": "2023-11-22T16:24:38.846575Z"
    }
   },
   "outputs": [],
   "source": [
    "\n",
    "\n",
    "fig, ax = plt.subplots(2)\n",
    "\n",
    "for iter_ndx in range(niter):\n",
    "    #print(iter_ndx, grp)\n",
    "    \n",
    "    df_i_sorted = df.loc[(slice(iter_ndx), slice(None), slice(None))].sort_values(fitness_ndx_tup)[:nbest]\n",
    "    #print(grp_sorted)\n",
    "    xvals = np.zeros(nbest) + iter_ndx\n",
    "    ax[0].plot(xvals, df_i_sorted['AM1', \"Unnamed: 35_level_1\"], 'o', color='C0')\n",
    "    ax[1].plot(xvals, df_i_sorted['AM2', \"Unnamed: 36_level_1\"], 'o', color='C0')\n",
    "    \n",
    "ax[1].set_xlabel('iteration')\n",
    "ax[0].set_ylabel('AM1 beadtype')\n",
    "ax[1].set_ylabel('AM2 beadtype')\n",
    "\n",
    "plt.show()"
   ]
  },
  {
   "cell_type": "code",
   "execution_count": null,
   "id": "9b33546b",
   "metadata": {
    "ExecuteTime": {
     "end_time": "2023-11-22T16:25:46.412728Z",
     "start_time": "2023-11-22T16:25:46.207158Z"
    }
   },
   "outputs": [],
   "source": [
    "#nbest = 10\n",
    "\n",
    "bond = 'PO4-AM1'\n",
    "\n",
    "fig, ax = plt.subplots(2)\n",
    "\n",
    "for iter_ndx in range(niter):    \n",
    "    df_i_sorted = df.loc[(slice(iter_ndx), slice(None), slice(None))].sort_values(fitness_ndx_tup)[:nbest]\n",
    "    xvals = np.zeros(nbest) + iter_ndx\n",
    "    ax[0].plot(xvals, df_i_sorted[bond, 'b0'], 'o', color='C0')\n",
    "    ax[1].plot(xvals, df_i_sorted[bond, 'fc'], 'o', color='C0')\n",
    "    \n",
    "ax[1].set_xlabel('iteration')\n",
    "ax[0].set_ylabel('b0 / nm')\n",
    "ax[1].set_ylabel(r'fc / kJ/mol/nm$^2$')\n",
    "\n",
    "plt.show()"
   ]
  },
  {
   "cell_type": "code",
   "execution_count": null,
   "id": "3410eda1",
   "metadata": {
    "ExecuteTime": {
     "end_time": "2023-11-22T16:25:28.500514Z",
     "start_time": "2023-11-22T16:25:28.288120Z"
    }
   },
   "outputs": [],
   "source": [
    "bond = 'AM1-AM2'\n",
    "\n",
    "fig, ax = plt.subplots(2)\n",
    "\n",
    "for iter_ndx in range(niter):    \n",
    "    df_i_sorted = df.loc[(slice(iter_ndx), slice(None), slice(None))].sort_values(fitness_ndx_tup)[:nbest]\n",
    "    xvals = np.zeros(nbest) + iter_ndx\n",
    "    ax[0].plot(xvals, df_i_sorted[bond, 'b0'], 'o', color='C0')\n",
    "    ax[1].plot(xvals, df_i_sorted[bond, 'fc'], 'o', color='C0')\n",
    "    \n",
    "ax[1].set_xlabel('iteration')\n",
    "ax[0].set_ylabel('b0 / nm')\n",
    "ax[1].set_ylabel(r'fc / kJ/mol/nm$^2$')\n",
    "\n",
    "plt.show()"
   ]
  },
  {
   "cell_type": "code",
   "execution_count": null,
   "id": "bf830af9",
   "metadata": {
    "ExecuteTime": {
     "end_time": "2023-11-22T16:25:10.005207Z",
     "start_time": "2023-11-22T16:25:09.775266Z"
    }
   },
   "outputs": [],
   "source": [
    "bond = 'AM1-T1A'\n",
    "\n",
    "fig, ax = plt.subplots(2)\n",
    "\n",
    "for iter_ndx in range(niter):    \n",
    "    df_i_sorted = df.loc[(slice(iter_ndx), slice(None), slice(None))].sort_values(fitness_ndx_tup)[:nbest]\n",
    "    xvals = np.zeros(nbest) + iter_ndx\n",
    "    ax[0].plot(xvals, df_i_sorted[bond, 'b0'], 'o', color='C0')\n",
    "    ax[1].plot(xvals, df_i_sorted[bond, 'fc'], 'o', color='C0')\n",
    "    \n",
    "ax[1].set_xlabel('iteration')\n",
    "ax[0].set_ylabel('b0 / nm')\n",
    "ax[1].set_ylabel(r'fc / kJ/mol/nm$^2$')\n",
    "\n",
    "plt.show()"
   ]
  },
  {
   "cell_type": "code",
   "execution_count": null,
   "id": "5abc2cf8",
   "metadata": {
    "ExecuteTime": {
     "end_time": "2023-11-22T16:25:56.796758Z",
     "start_time": "2023-11-22T16:25:56.447359Z"
    }
   },
   "outputs": [],
   "source": [
    "bond = 'AM2-C1B'\n",
    "\n",
    "fig, ax = plt.subplots(2)\n",
    "\n",
    "for iter_ndx in range(niter):    \n",
    "    df_i_sorted = df.loc[(slice(iter_ndx), slice(None), slice(None))].sort_values(fitness_ndx_tup)[:nbest]\n",
    "    xvals = np.zeros(nbest) + iter_ndx\n",
    "    ax[0].plot(xvals, df_i_sorted[bond, 'b0'], 'o', color='C0')\n",
    "    ax[1].plot(xvals, df_i_sorted[bond, 'fc'], 'o', color='C0')\n",
    "    \n",
    "ax[1].set_xlabel('iteration')\n",
    "ax[0].set_ylabel('b0 / nm')\n",
    "ax[1].set_ylabel(r'fc / kJ/mol/nm$^2$')\n",
    "\n",
    "plt.show()"
   ]
  },
  {
   "cell_type": "code",
   "execution_count": null,
   "id": "8485ac13",
   "metadata": {
    "ExecuteTime": {
     "end_time": "2023-11-22T15:59:37.660826Z",
     "start_time": "2023-11-22T15:59:37.341780Z"
    }
   },
   "outputs": [],
   "source": [
    "bond = 'PO4-AM1-AM2'\n",
    "\n",
    "fig, ax = plt.subplots(2)\n",
    "\n",
    "for iter_ndx in range(niter):\n",
    "    #print(iter_ndx, grp)\n",
    "    \n",
    "    df_i_sorted = df.loc[(slice(iter_ndx), slice(None), slice(None))].sort_values(fitness_ndx_tup)[:nbest]\n",
    "    #print(grp_sorted)\n",
    "    xvals = np.zeros(nbest) + iter_ndx\n",
    "    ax[0].plot(xvals, df_i_sorted[bond, 'b0'], 'o', color='C0')\n",
    "    ax[1].plot(xvals, df_i_sorted[bond, 'fc'], 'o', color='C0')\n",
    "    \n",
    "ax[1].set_xlabel('iteration')\n",
    "ax[0].set_ylabel('a0 / nm')\n",
    "ax[1].set_ylabel(r'fc / kJ/mol/deg$^2$')\n",
    "\n",
    "plt.show()"
   ]
  },
  {
   "cell_type": "code",
   "execution_count": null,
   "id": "ca5ffb82",
   "metadata": {
    "ExecuteTime": {
     "end_time": "2023-11-22T15:59:46.634768Z",
     "start_time": "2023-11-22T15:59:46.284122Z"
    }
   },
   "outputs": [],
   "source": [
    "bond = 'PO4-AM1-T1A'\n",
    "\n",
    "fig, ax = plt.subplots(2)\n",
    "\n",
    "for iter_ndx in range(niter):\n",
    "    #print(iter_ndx, grp)\n",
    "    \n",
    "    df_i_sorted = df.loc[(slice(iter_ndx), slice(None), slice(None))].sort_values(fitness_ndx_tup)[:nbest]\n",
    "    #print(grp_sorted)\n",
    "    xvals = np.zeros(nbest) + iter_ndx\n",
    "    ax[0].plot(xvals, df_i_sorted[bond, 'b0'], 'o', color='C0')\n",
    "    ax[1].plot(xvals, df_i_sorted[bond, 'fc'], 'o', color='C0')\n",
    "        \n",
    "ax[1].set_xlabel('iteration')\n",
    "ax[0].set_ylabel('a0 / nm')\n",
    "ax[1].set_ylabel(r'fc / kJ/mol/deg$^2$')\n",
    "\n",
    "plt.show()"
   ]
  },
  {
   "cell_type": "code",
   "execution_count": null,
   "id": "799852c2",
   "metadata": {
    "ExecuteTime": {
     "end_time": "2023-11-22T15:59:55.382217Z",
     "start_time": "2023-11-22T15:59:55.054832Z"
    }
   },
   "outputs": [],
   "source": [
    "bond = 'AM1-T1A-C2A'\n",
    "\n",
    "fig, ax = plt.subplots(2)\n",
    "\n",
    "for iter_ndx in range(niter):\n",
    "    #print(iter_ndx, grp)\n",
    "    \n",
    "    df_i_sorted = df.loc[(slice(iter_ndx), slice(None), slice(None))].sort_values(fitness_ndx_tup)[:nbest]\n",
    "    #print(grp_sorted)\n",
    "    xvals = np.zeros(nbest) + iter_ndx\n",
    "    ax[0].plot(xvals, df_i_sorted[bond, 'b0'], 'o', color='C0')\n",
    "    ax[1].plot(xvals, df_i_sorted[bond, 'fc'], 'o', color='C0')\n",
    "    \n",
    "ax[1].set_xlabel('iteration')\n",
    "ax[0].set_ylabel('a0 / nm')\n",
    "ax[1].set_ylabel(r'fc / kJ/mol/deg$^2$')\n",
    "\n",
    "plt.show()"
   ]
  },
  {
   "cell_type": "code",
   "execution_count": null,
   "id": "8f61f2df",
   "metadata": {
    "ExecuteTime": {
     "end_time": "2023-11-22T16:00:05.974917Z",
     "start_time": "2023-11-22T16:00:05.660608Z"
    }
   },
   "outputs": [],
   "source": [
    "bond = 'AM2-C1B-C2B'\n",
    "\n",
    "fig, ax = plt.subplots(2)\n",
    "\n",
    "for iter_ndx in range(niter):\n",
    "    #print(iter_ndx, grp)\n",
    "    \n",
    "    df_i_sorted = df.loc[(slice(iter_ndx), slice(None), slice(None))].sort_values(fitness_ndx_tup)[:nbest]\n",
    "    #print(grp_sorted)\n",
    "    xvals = np.zeros(nbest) + iter_ndx\n",
    "    ax[0].plot(xvals, df_i_sorted[bond, 'b0'], 'o', color='C0')\n",
    "    ax[1].plot(xvals, df_i_sorted[bond, 'fc'], 'o', color='C0')\n",
    "    \n",
    "ax[1].set_xlabel('iteration')\n",
    "ax[0].set_ylabel('a0 / nm')\n",
    "ax[1].set_ylabel(r'fc / kJ/mol/deg$^2$')\n",
    "\n",
    "plt.show()"
   ]
  },
  {
   "cell_type": "code",
   "execution_count": null,
   "id": "0b12777b",
   "metadata": {
    "ExecuteTime": {
     "end_time": "2023-11-22T16:26:17.442255Z",
     "start_time": "2023-11-22T16:26:17.407090Z"
    }
   },
   "outputs": [],
   "source": [
    "def load_obs_dict(uid, outputdir, training_systems):\n",
    "    \n",
    "    obs_dict = {}\n",
    "    for molkey in training_systems:\n",
    "        obs_dict[molkey] = {}\n",
    "        for tr_system in training_systems[molkey]:\n",
    "                path = os.path.join(outputdir, uid, molkey, tr_system, 'observables_dict.dat')\n",
    "\n",
    "                obs_dict[molkey][tr_system] = json.load(open(path, 'r'))\n",
    "            \n",
    "    return obs_dict\n",
    "\n",
    "def nbest_obs_dict(df, outputdir, training_systems, nbest):\n",
    "    obs_dict_dict = {}\n",
    "    for i in range(nbest):\n",
    "        uid = df.index.get_level_values(level='uid')[i]\n",
    "        obs_dict_dict[i] = load_obs_dict(uid, outputdir, training_systems)\n",
    "    #uid = uids[0]\n",
    "    \n",
    "    return obs_dict_dict"
   ]
  },
  {
   "cell_type": "code",
   "execution_count": null,
   "id": "c3535339",
   "metadata": {
    "ExecuteTime": {
     "end_time": "2023-11-22T16:26:17.596725Z",
     "start_time": "2023-11-22T16:26:17.553034Z"
    }
   },
   "outputs": [],
   "source": [
    "nbest_obsdict_total = nbest_obs_dict(df_sorted, 'output/', training_systems, 10)"
   ]
  },
  {
   "cell_type": "code",
   "execution_count": null,
   "id": "c536494d",
   "metadata": {
    "ExecuteTime": {
     "end_time": "2023-11-22T16:26:18.901773Z",
     "start_time": "2023-11-22T16:26:18.692525Z"
    }
   },
   "outputs": [],
   "source": [
    "nbest_obsdict_total"
   ]
  },
  {
   "cell_type": "code",
   "execution_count": null,
   "id": "465f61a1",
   "metadata": {
    "ExecuteTime": {
     "end_time": "2023-11-22T16:26:24.095834Z",
     "start_time": "2023-11-22T16:26:23.774434Z"
    }
   },
   "outputs": [],
   "source": [
    "molkey = 'DPSM'\n",
    "\n",
    "fig, ax = plt.subplots(len(bonds_to_optimize[molkey]), 1, figsize=(12,12))\n",
    "\n",
    "\n",
    "    \n",
    "tr_system = 'DPSM128_328K'\n",
    "ax[0,].set_title(tr_system)\n",
    "ax[-1,].set_xlabel('bond length / nm')\n",
    "ax[-2].set_ylabel('probability a.u.')\n",
    "\n",
    "for i in range(10):\n",
    "    for j, bond in enumerate(bonds_to_optimize[molkey]):\n",
    "        if i == 0:\n",
    "            lw = 3\n",
    "            color = 'C1'\n",
    "            zorder = 2.1\n",
    "            label='gbest'\n",
    "        else:\n",
    "            lw = 2\n",
    "            color = 'grey'\n",
    "            zorder = 2\n",
    "            label=None\n",
    "        dist, bins = nbest_obsdict_total[i][molkey][tr_system]['bond_lengths_dist'][bond]\n",
    "        ax[j].plot(bins[1:],dist, lw=lw, color=color, zorder=zorder, label=label)\n",
    "\n",
    "        \n",
    "        if i == 0:\n",
    "            target_dist, target_bins = target_dict[molkey]['bond_lengths_dist'][molkey][tr_system][bond]\n",
    "            ax[j].plot(target_bins[1:], target_dist, color='firebrick', label='target CHARMM SSM', lw=3,\n",
    "                      zorder=2.01)\n",
    "            ax[j].text(0.2,0.15, bond, fontweight=\"bold\", fontsize=14,ha=\"center\", transform=ax[j].transAxes)\n",
    "            \n",
    "        \n",
    "ax[1].legend()\n",
    "\n",
    "plt.show()"
   ]
  },
  {
   "cell_type": "code",
   "execution_count": null,
   "id": "4d0f79e5",
   "metadata": {
    "ExecuteTime": {
     "end_time": "2023-11-22T16:26:26.205925Z",
     "start_time": "2023-11-22T16:26:25.869159Z"
    }
   },
   "outputs": [],
   "source": [
    "molkey = 'DPSM'\n",
    "\n",
    "fig, ax = plt.subplots(len(angles_to_optimize[molkey]), 1, figsize=(12,12))\n",
    "\n",
    "\n",
    "    \n",
    "tr_system = 'DPSM128_328K'\n",
    "ax[0,].set_title(tr_system)\n",
    "ax[-1,].set_xlabel('angle / deg')\n",
    "ax[-2].set_ylabel('probability a.u.')\n",
    "\n",
    "for i in range(10):\n",
    "    for j, bond in enumerate(angles_to_optimize[molkey]):\n",
    "        if i == 0:\n",
    "            lw = 2\n",
    "            color = 'C1'\n",
    "            zorder = 2.1\n",
    "            label='gbest'\n",
    "        else:\n",
    "            lw = 2\n",
    "            color = 'grey'\n",
    "            zorder = 2\n",
    "            label=None\n",
    "        \n",
    "        dist, bins = nbest_obsdict_total[i][molkey][tr_system]['angles_dist'][bond]\n",
    "        ax[j].plot(bins[1:],dist, lw=lw, color=color, zorder=zorder, label=label)\n",
    "        if i == 0:\n",
    "            target_dist, target_bins = target_dict[molkey]['angles_dist'][molkey][tr_system][bond]\n",
    "            ax[j].plot(target_bins[1:], target_dist, color='firebrick', label='target CHARMM SSM', lw=3,\n",
    "                      zorder=2.01)\n",
    "            ax[j].text(0.2,0.15, bond, fontweight=\"bold\", fontsize=14,ha=\"center\", transform=ax[j].transAxes)\n",
    "\n",
    "            \n",
    "ax[1].legend()\n",
    "\n",
    "plt.show()"
   ]
  },
  {
   "cell_type": "code",
   "execution_count": null,
   "id": "1ffe012e",
   "metadata": {},
   "outputs": [],
   "source": []
  }
 ],
 "metadata": {
  "kernelspec": {
   "display_name": "Python 3 (ipykernel)",
   "language": "python",
   "name": "python3"
  },
  "language_info": {
   "codemirror_mode": {
    "name": "ipython",
    "version": 3
   },
   "file_extension": ".py",
   "mimetype": "text/x-python",
   "name": "python",
   "nbconvert_exporter": "python",
   "pygments_lexer": "ipython3",
   "version": "3.9.7"
  }
 },
 "nbformat": 4,
 "nbformat_minor": 5
}
